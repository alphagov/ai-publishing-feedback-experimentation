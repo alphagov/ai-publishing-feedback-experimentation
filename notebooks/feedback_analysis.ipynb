{
 "cells": [
  {
   "cell_type": "code",
   "execution_count": null,
   "metadata": {},
   "outputs": [],
   "source": [
    "from google.cloud import bigquery\n",
    "import pandas as pd\n",
    "import json"
   ]
  },
  {
   "cell_type": "code",
   "execution_count": null,
   "metadata": {},
   "outputs": [],
   "source": [
    "def query_bigquery(project_id, dataset_id, query):\n",
    "    \"\"\"\n",
    "    Extracts feedback records from BigQuery\n",
    "    :return: DataFrame containing feedback records\n",
    "    \"\"\"\n",
    "    # Initialize a BigQuery client\n",
    "    client = bigquery.Client(project=project_id)\n",
    "\n",
    "    # Construct a reference to the dataset\n",
    "    dataset_ref = client.dataset(dataset_id)\n",
    "\n",
    "    # Make a BigQuery API request to run the query\n",
    "    query_job = client.query(query)\n",
    "\n",
    "    # Wait for the query to complete\n",
    "    query_job.result()\n",
    "\n",
    "    # Fetch the results of the query\n",
    "    # results = query_job.result()\n",
    "\n",
    "    # Write to a df\n",
    "    results_df = query_job.to_dataframe()\n",
    "\n",
    "    return results_df"
   ]
  },
  {
   "cell_type": "code",
   "execution_count": null,
   "metadata": {},
   "outputs": [],
   "source": [
    "project_id = \"govuk-user-feedback-dev\"\n",
    "dataset_id = \"govuk-user-feedback-dev\"\n",
    "query_read = \"\"\"\n",
    "SELECT * FROM `govuk-user-feedback-dev.analysis.feedback_metrics` \n",
    "\"\"\"\n",
    "\n",
    "# Call the function to execute the query\n",
    "feedback_df = query_bigquery(project_id, dataset_id, query_read)\n",
    "print(len(feedback_df))"
   ]
  },
  {
   "cell_type": "code",
   "execution_count": null,
   "metadata": {},
   "outputs": [],
   "source": [
    "feedback_df.head()"
   ]
  },
  {
   "cell_type": "code",
   "execution_count": null,
   "metadata": {},
   "outputs": [],
   "source": [
    "feedback_df.sort_values(\n",
    "    by=[\"feedback_record_id\", \"prompt_value\"], inplace=True, ascending=True\n",
    ")"
   ]
  },
  {
   "cell_type": "code",
   "execution_count": null,
   "metadata": {},
   "outputs": [],
   "source": [
    "# Create labels\n",
    "\n",
    "feedback_record_id = feedback_df[\"feedback_record_id\"].tolist()\n",
    "\n",
    "# Create a dictionary from the column data\n",
    "data_dict = {key: None for key in feedback_record_id}\n",
    "\n",
    "# Define the path for the output JSON file\n",
    "output_json_file = \"../data/labels.json\"\n",
    "\n",
    "# Write the dictionary to a JSON file\n",
    "with open(output_json_file, \"w\") as json_file:\n",
    "    json.dump(data_dict, json_file, indent=4)"
   ]
  },
  {
   "cell_type": "code",
   "execution_count": null,
   "metadata": {},
   "outputs": [],
   "source": [
    "pd.set_option(\"display.max_colwidth\", None)\n",
    "pd.set_option(\"display.max_rows\", 200)"
   ]
  },
  {
   "cell_type": "code",
   "execution_count": null,
   "metadata": {},
   "outputs": [],
   "source": [
    "# Remove any records with PII\n",
    "import csv\n",
    "\n",
    "file = open(\"../data/pii_exclusions.csv\", \"r\")\n",
    "pii_ids = list(csv.reader(file, delimiter=\",\"))\n",
    "file.close()\n",
    "\n",
    "print(pii_ids)\n",
    "\n",
    "feedback_df.drop(\n",
    "    feedback_df[feedback_df.feedback_record_id.isin(pii_ids[0])].index, inplace=True\n",
    ")"
   ]
  },
  {
   "cell_type": "code",
   "execution_count": null,
   "metadata": {},
   "outputs": [],
   "source": [
    "# Check records have been dropped\n",
    "len(feedback_df)"
   ]
  },
  {
   "cell_type": "code",
   "execution_count": null,
   "metadata": {},
   "outputs": [],
   "source": [
    "# Concatenate feedback records together on feedback_record_id, ordered by prompt\n",
    "# Function to concatenate two string columns\n",
    "\n",
    "# Concatenate response values for same feedback record, to make prompting easier.\n",
    "feedback_df[\"concatenated_response_value\"] = feedback_df.groupby(\"feedback_record_id\")[\n",
    "    \"response_value\"\n",
    "].transform(lambda x: \" \".join(x))\n",
    "\n",
    "print(feedback_df)"
   ]
  },
  {
   "cell_type": "code",
   "execution_count": null,
   "metadata": {},
   "outputs": [],
   "source": [
    "feedback_distinct_df = feedback_df[\n",
    "    [\"feedback_record_id\", \"concatenated_response_value\"]\n",
    "].drop_duplicates()\n",
    "print(len(feedback_distinct_df))"
   ]
  },
  {
   "cell_type": "code",
   "execution_count": null,
   "metadata": {},
   "outputs": [],
   "source": [
    "# Manually label samples..."
   ]
  },
  {
   "cell_type": "code",
   "execution_count": null,
   "metadata": {},
   "outputs": [],
   "source": [
    "# Apply labels\n",
    "\n",
    "# Opening JSON file\n",
    "f = open(\"../data/labels.json\")\n",
    "\n",
    "# returns JSON object as\n",
    "# a dictionary\n",
    "labels_data = json.load(f)\n",
    "\n",
    "# Closing file\n",
    "f.close()\n",
    "\n",
    "print(labels_data)\n",
    "\n",
    "labels_df = (\n",
    "    pd.DataFrame.from_dict(labels_data, orient=\"index\", columns=[\"labels\"])\n",
    "    .reset_index()\n",
    "    .rename(columns={\"index\": \"feedback_record_id\"})\n",
    ")"
   ]
  },
  {
   "cell_type": "code",
   "execution_count": null,
   "metadata": {},
   "outputs": [],
   "source": [
    "# Merge labels with feedback\n",
    "merged_df = feedback_distinct_df.merge(labels_df, how=\"left\", on=\"feedback_record_id\")[\n",
    "    [\"feedback_record_id\", \"concatenated_response_value\", \"labels\"]\n",
    "]\n",
    "print(len(merged_df))"
   ]
  },
  {
   "cell_type": "code",
   "execution_count": null,
   "metadata": {},
   "outputs": [],
   "source": [
    "merged_df.head()"
   ]
  },
  {
   "cell_type": "markdown",
   "metadata": {},
   "source": []
  },
  {
   "cell_type": "code",
   "execution_count": null,
   "metadata": {},
   "outputs": [],
   "source": [
    "# Write labels data to new table\n",
    "def write_to_bigquery(table_id: str, df: pd.DataFrame):\n",
    "    \"\"\"\n",
    "    Writes data to BigQuery\n",
    "    \"\"\"\n",
    "    # Initialize a BigQuery client\n",
    "    client = bigquery.Client()\n",
    "\n",
    "    # Define schema for the table\n",
    "    schema = [\n",
    "        bigquery.SchemaField(\"feedback_record_id\", \"STRING\"),\n",
    "        bigquery.SchemaField(\"concatenated_response_value\", \"STRING\"),\n",
    "    ]\n",
    "\n",
    "    # Define job configuration\n",
    "    job_config = bigquery.LoadJobConfig(\n",
    "        schema=schema, write_disposition=\"WRITE_TRUNCATE\"\n",
    "    )\n",
    "\n",
    "    # Write DataFrame to BigQuery\n",
    "    job = client.load_table_from_dataframe(df, table_id, job_config=job_config)\n",
    "\n",
    "    # Wait for the job to complete\n",
    "    job.result()\n",
    "\n",
    "    print(f\"Table {table_id} created in dataset {dataset_id}\")"
   ]
  },
  {
   "cell_type": "code",
   "execution_count": null,
   "metadata": {},
   "outputs": [],
   "source": [
    "table_id = \"govuk-user-feedback-dev.analysis.feedback_metrics_distinct_labelled\"\n",
    "\n",
    "write_to_bigquery(project_id, dataset_id, table_id, df=merged_df)"
   ]
  }
 ],
 "metadata": {
  "kernelspec": {
   "display_name": "venv",
   "language": "python",
   "name": "python3"
  },
  "language_info": {
   "codemirror_mode": {
    "name": "ipython",
    "version": 3
   },
   "file_extension": ".py",
   "mimetype": "text/x-python",
   "name": "python",
   "nbconvert_exporter": "python",
   "pygments_lexer": "ipython3",
   "version": "3.12.2"
  }
 },
 "nbformat": 4,
 "nbformat_minor": 2
}
