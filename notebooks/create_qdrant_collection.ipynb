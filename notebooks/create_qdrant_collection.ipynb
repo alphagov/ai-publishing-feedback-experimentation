{
 "cells": [
  {
   "cell_type": "markdown",
   "metadata": {},
   "source": [
    "# QDRANT - Feedback Collection Quickstart\n",
    "\n",
    "A quickstart notebook to get started with Qdrant"
   ]
  },
  {
   "cell_type": "code",
   "execution_count": null,
   "metadata": {},
   "outputs": [],
   "source": [
    "import os\n",
    "import numpy as np\n",
    "from pprint import pprint\n",
    "from src.utils.bigquery import query_bigquery\n",
    "from datetime import datetime\n",
    "from sentence_transformers import SentenceTransformer\n",
    "from qdrant_client import QdrantClient\n",
    "from qdrant_client.http.models import Distance\n",
    "\n",
    "from src.collection.set_collection import (\n",
    "    create_vectors_from_data,\n",
    "    create_collection,\n",
    "    upsert_to_collection_from_vectors,\n",
    ")\n",
    "from src.collection.query_collection import get_top_k_results\n",
    "\n",
    "PUBLISHING_PROJECT_ID = os.getenv(\"PUBLISHING_PROJECT_ID\")\n",
    "LABELLED_FEEDBACK_DATASET = os.getenv(\"LABELLED_FEEDBACK_DATASET\")\n",
    "PUBLISHING_VIEW = os.getenv(\"PUBLISHING_VIEW\")\n",
    "OPENAI_LABELLED_FEEDBACK_TABLE = os.getenv(\"OPENAI_LABELLED_FEEDBACK_TABLE\")"
   ]
  },
  {
   "cell_type": "code",
   "execution_count": null,
   "metadata": {},
   "outputs": [],
   "source": [
    "# Query BQ to pull the human labelled feedback data\n",
    "query_read = \"\"\"\n",
    "\n",
    "SELECT \n",
    "    feedback.type,\n",
    "    feedback.created,\n",
    "    feedback.subject_page_path,\n",
    "    CONCAT('https://www.gov.uk', feedback.subject_page_path) AS reconstructed_path,\n",
    "    feedback.feedback_record_id,\n",
    "    feedback.response_value,\n",
    "    feedback.embeddings,\n",
    "    feedback.sentiment,\n",
    "    feedback.spam_classification,\n",
    "    feedback.spam_probability,\n",
    "    labels.labels,\n",
    "    labels.urgency\n",
    "FROM @PUBLISHING_VIEW feedback\n",
    "JOIN @labelled_feedback_table labels\n",
    "  ON feedback.feedback_record_id=labels.id\n",
    "WHERE feedback.created > DATE(\"2023-08-01\")\n",
    "\"\"\"\n",
    "\n",
    "\n",
    "query_read = query_read.replace(\n",
    "    \"@labelled_feedback_table\", str(OPENAI_LABELLED_FEEDBACK_TABLE)\n",
    ").replace(\"@PUBLISHING_VIEW\", str(PUBLISHING_VIEW))\n",
    "\n",
    "# Call the function to execute the query\n",
    "docs = query_bigquery(\n",
    "    PUBLISHING_PROJECT_ID,\n",
    "    LABELLED_FEEDBACK_DATASET,\n",
    "    query_read,\n",
    ")"
   ]
  },
  {
   "cell_type": "code",
   "execution_count": null,
   "metadata": {},
   "outputs": [],
   "source": [
    "client = QdrantClient(\"localhost\", port=6333)"
   ]
  },
  {
   "cell_type": "code",
   "execution_count": null,
   "metadata": {},
   "outputs": [],
   "source": [
    "collection_name = \"feedback_test_collection_1\"\n",
    "\n",
    "create_collection(client, collection_name, size=768, distance_metric=Distance.DOT)"
   ]
  },
  {
   "cell_type": "code",
   "execution_count": null,
   "metadata": {},
   "outputs": [],
   "source": [
    "# Convert example data into PointStructs for upsertion\n",
    "points_to_upsert = create_vectors_from_data(\n",
    "    docs, id_key=\"feedback_record_id\", embedding_key=\"embeddings\"\n",
    ")"
   ]
  },
  {
   "cell_type": "code",
   "execution_count": null,
   "metadata": {},
   "outputs": [],
   "source": [
    "type(points_to_upsert[0])"
   ]
  },
  {
   "cell_type": "code",
   "execution_count": null,
   "metadata": {},
   "outputs": [],
   "source": [
    "# Upsert data to collection\n",
    "upsert_to_collection_from_vectors(client, collection_name, data=points_to_upsert)"
   ]
  },
  {
   "cell_type": "code",
   "execution_count": null,
   "metadata": {},
   "outputs": [],
   "source": [
    "# Clean up any stale collections\n",
    "stale_collection_name = \"stale_collection_name\"\n",
    "client.delete_collection(collection_name=f\"{stale_collection_name}\")"
   ]
  },
  {
   "cell_type": "code",
   "execution_count": null,
   "metadata": {},
   "outputs": [],
   "source": [
    "# Embed keyword for query search using a local sentence transformers model...\n",
    "model = SentenceTransformer(\"all-mpnet-base-v2\")"
   ]
  },
  {
   "cell_type": "code",
   "execution_count": null,
   "metadata": {},
   "outputs": [],
   "source": [
    "query_embedding = model.encode(\"tax\")"
   ]
  },
  {
   "cell_type": "code",
   "execution_count": null,
   "metadata": {},
   "outputs": [],
   "source": [
    "len(query_embedding)"
   ]
  },
  {
   "cell_type": "code",
   "execution_count": null,
   "metadata": {},
   "outputs": [],
   "source": [
    "# filter_key = \"subject_page_path\"\n",
    "# filter_values = None\n",
    "# filter_values = [\"/government/publications/childcare-service-compensation\"]\n",
    "\n",
    "search_result = get_top_k_results(client, collection_name, query_embedding, k=5)"
   ]
  },
  {
   "cell_type": "code",
   "execution_count": null,
   "metadata": {},
   "outputs": [],
   "source": [
    "pprint(search_result)"
   ]
  },
  {
   "cell_type": "markdown",
   "metadata": {},
   "source": [
    "------"
   ]
  },
  {
   "cell_type": "code",
   "execution_count": null,
   "metadata": {},
   "outputs": [],
   "source": []
  },
  {
   "cell_type": "markdown",
   "metadata": {},
   "source": [
    "## ---Langchain Create Collection Implementation---\n"
   ]
  },
  {
   "cell_type": "code",
   "execution_count": null,
   "metadata": {},
   "outputs": [],
   "source": [
    "from langchain.text_splitter import CharacterTextSplitter\n",
    "from langchain_community.document_loaders import TextLoader\n",
    "from langchain_community.vectorstores import Qdrant\n",
    "from langchain_openai import OpenAIEmbeddings"
   ]
  },
  {
   "cell_type": "code",
   "execution_count": null,
   "metadata": {},
   "outputs": [],
   "source": [
    "loader = TextLoader(\"../path/to/docs\")\n",
    "documents = loader.load()\n",
    "text_splitter = CharacterTextSplitter(chunk_size=1000, chunk_overlap=0)\n",
    "docs = text_splitter.split_documents(documents)\n",
    "\n",
    "embeddings = OpenAIEmbeddings()"
   ]
  },
  {
   "cell_type": "code",
   "execution_count": null,
   "metadata": {},
   "outputs": [],
   "source": [
    "# In memory\n",
    "qdrant = Qdrant.from_documents(\n",
    "    docs,\n",
    "    embeddings,\n",
    "    location=\":memory:\",  # Local mode with in-memory storage only\n",
    "    collection_name=\"my_documents\",\n",
    ")"
   ]
  },
  {
   "cell_type": "code",
   "execution_count": null,
   "metadata": {},
   "outputs": [],
   "source": [
    "# with Docker / K8s\n",
    "url = \"<---qdrant url here --->\"\n",
    "qdrant = Qdrant.from_documents(\n",
    "    docs,\n",
    "    embeddings,\n",
    "    url=url,\n",
    "    prefer_grpc=True,\n",
    "    collection_name=\"my_documents\",\n",
    "    # force_recreate=True,\n",
    ")"
   ]
  },
  {
   "cell_type": "code",
   "execution_count": null,
   "metadata": {},
   "outputs": [],
   "source": [
    "query = \"\"\n",
    "found_docs = qdrant.similarity_search_with_score(query)"
   ]
  },
  {
   "cell_type": "code",
   "execution_count": null,
   "metadata": {},
   "outputs": [],
   "source": [
    "document, score = found_docs[0]\n",
    "print(document.page_content)\n",
    "print(f\"\\nScore: {score}\")"
   ]
  },
  {
   "cell_type": "code",
   "execution_count": null,
   "metadata": {},
   "outputs": [],
   "source": []
  },
  {
   "cell_type": "code",
   "execution_count": null,
   "metadata": {},
   "outputs": [],
   "source": [
    "# Generate random vector for testing - list of 768 random numbers between 0 and 1\n",
    "random_numbers = np.random.rand(768).tolist()\n",
    "\n",
    "# Display the first 10 numbers\n",
    "random_numbers[:10], len(random_numbers)"
   ]
  }
 ],
 "metadata": {
  "kernelspec": {
   "display_name": "venv",
   "language": "python",
   "name": "python3"
  },
  "language_info": {
   "codemirror_mode": {
    "name": "ipython",
    "version": 3
   },
   "file_extension": ".py",
   "mimetype": "text/x-python",
   "name": "python",
   "nbconvert_exporter": "python",
   "pygments_lexer": "ipython3",
   "version": "3.11.8"
  }
 },
 "nbformat": 4,
 "nbformat_minor": 2
}
