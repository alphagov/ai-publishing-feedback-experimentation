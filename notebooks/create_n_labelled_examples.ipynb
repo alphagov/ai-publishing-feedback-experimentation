{
 "cells": [
  {
   "cell_type": "code",
   "execution_count": 3,
   "metadata": {},
   "outputs": [
    {
     "ename": "ModuleNotFoundError",
     "evalue": "No module named 'src'",
     "output_type": "error",
     "traceback": [
      "\u001b[0;31m---------------------------------------------------------------------------\u001b[0m",
      "\u001b[0;31mModuleNotFoundError\u001b[0m                       Traceback (most recent call last)",
      "Cell \u001b[0;32mIn[3], line 3\u001b[0m\n\u001b[1;32m      1\u001b[0m \u001b[38;5;28;01mimport\u001b[39;00m \u001b[38;5;21;01mos\u001b[39;00m\n\u001b[1;32m      2\u001b[0m \u001b[38;5;28;01mimport\u001b[39;00m \u001b[38;5;21;01mnumpy\u001b[39;00m \u001b[38;5;28;01mas\u001b[39;00m \u001b[38;5;21;01mnp\u001b[39;00m\n\u001b[0;32m----> 3\u001b[0m \u001b[38;5;28;01mfrom\u001b[39;00m \u001b[38;5;21;01msrc\u001b[39;00m\u001b[38;5;21;01m.\u001b[39;00m\u001b[38;5;21;01mutils\u001b[39;00m\u001b[38;5;21;01m.\u001b[39;00m\u001b[38;5;21;01mquery_bigquery\u001b[39;00m \u001b[38;5;28;01mimport\u001b[39;00m query_bigquery\n\u001b[1;32m      4\u001b[0m \u001b[38;5;28;01mfrom\u001b[39;00m \u001b[38;5;21;01msrc\u001b[39;00m\u001b[38;5;21;01m.\u001b[39;00m\u001b[38;5;21;01mutils\u001b[39;00m\u001b[38;5;21;01m.\u001b[39;00m\u001b[38;5;21;01msample\u001b[39;00m \u001b[38;5;28;01mimport\u001b[39;00m get_stratified_sample\n\u001b[1;32m      5\u001b[0m \u001b[38;5;28;01mfrom\u001b[39;00m \u001b[38;5;21;01msrc\u001b[39;00m\u001b[38;5;21;01m.\u001b[39;00m\u001b[38;5;21;01mutils\u001b[39;00m\u001b[38;5;21;01m.\u001b[39;00m\u001b[38;5;21;01mjsonify_data\u001b[39;00m \u001b[38;5;28;01mimport\u001b[39;00m jsonify_data\n",
      "\u001b[0;31mModuleNotFoundError\u001b[0m: No module named 'src'"
     ]
    }
   ],
   "source": [
    "import os\n",
    "import numpy as np\n",
    "from src.utils.query_bigquery import query_bigquery\n",
    "from src.utils.sample import get_stratified_sample\n",
    "from src.utils.jsonify_data import jsonify_data\n",
    "from src.utils.async_call_openai import gather_responses\n",
    "\n",
    "OPENAI_API_KEY = os.getenv(\"OPENAI_API_KEY\")\n",
    "FEEDBACK_PROJECT_ID = os.getenv(\"FEEDBACK_PROJECT_ID\")\n",
    "PUBLISHING_PROJECT_ID = os.getenv(\"PUBLISHING_PROJECT_ID\")\n",
    "FEEDBACK_TABLE = os.getenv(\"FEEDBACK_TABLE\")\n",
    "PUBLISHING_TABLE = os.getenv(\"PUBLISHING_TABLE\")\n",
    "LABELLED_FEEDBACK_TABLE = os.getenv(\"LABELLED_FEEDBACK_TABLE\")\n",
    "OPENAI_LABEL_FEEDBACK_TABLE = os.getenv(\"OPENAI_LABELLED_FEEDBACK_TABLE\")\n",
    "LABELLED_FEEDBACK_DATASET = os.getenv(\"LABELLED_FEEDBACK_DATASET\")"
   ]
  },
  {
   "cell_type": "code",
   "execution_count": null,
   "metadata": {},
   "outputs": [],
   "source": [
    "# Query BQ to pull the human labelled feedback data\n",
    "query_read = \"\"\"\n",
    "SELECT * FROM  @feedback_sample_table\n",
    "\"\"\"\n",
    "query_read = query_read.replace(\"@feedback_sample_table\", str(LABELLED_FEEDBACK_TABLE))\n",
    "\n",
    "# Call the function to execute the query\n",
    "labelled_sample = query_bigquery(\n",
    "    PUBLISHING_PROJECT_ID,\n",
    "    LABELLED_FEEDBACK_DATASET,\n",
    "    query_read,\n",
    ")\n",
    "\n",
    "# Get a stratified sample of the labelled feedback data\n",
    "stratified_sample = get_stratified_sample(\n",
    "    records=labelled_sample,\n",
    "    total_sample_size=20,\n",
    "    id_key=\"feedback_record_id\",\n",
    "    label_key=\"labels\",\n",
    ")\n",
    "\n",
    "stratified_sample"
   ]
  },
  {
   "cell_type": "code",
   "execution_count": null,
   "metadata": {},
   "outputs": [],
   "source": [
    "unlabelled_data_query = \"\"\"\n",
    "SELECT\n",
    "          feedback_record_id,\n",
    "          STRING_AGG(response_value, ' '\n",
    "          ORDER BY\n",
    "            created) AS concatenated_response_value,\n",
    "            rand() as r\n",
    "        FROM\n",
    "          @publishing_table\n",
    "          WHERE DATE(created) >= \"2024-01-01\"\n",
    "        GROUP BY\n",
    "          feedback_record_id\n",
    "        ORDER BY\n",
    "          r\n",
    "      LIMIT (5)\"\"\"\n",
    "unlabelled_data_query = unlabelled_data_query.replace(\n",
    "    \"@publishing_table\",\n",
    "    str(PUBLISHING_TABLE),\n",
    ")\n",
    "unlabelled_data = query_bigquery(\n",
    "    PUBLISHING_PROJECT_ID,\n",
    "    LABELLED_FEEDBACK_DATASET,\n",
    "    unlabelled_data_query,\n",
    ")\n",
    "unlabelled_data"
   ]
  },
  {
   "cell_type": "code",
   "execution_count": null,
   "metadata": {},
   "outputs": [],
   "source": [
    "labelled_subs_json = jsonify_data(records=stratified_sample, labelled=True)\n",
    "new_subs_json = jsonify_data(records=unlabelled_data, labelled=False)"
   ]
  },
  {
   "cell_type": "code",
   "execution_count": null,
   "metadata": {},
   "outputs": [],
   "source": [
    "responses = gather_responses(\n",
    "    labelled_subs_json=labelled_subs_json,\n",
    "    new_subs_json=new_subs_json,\n",
    "    api_key=OPENAI_API_KEY,\n",
    ")"
   ]
  },
  {
   "cell_type": "code",
   "execution_count": null,
   "metadata": {},
   "outputs": [],
   "source": [
    "prompt_tokens = [response[\"prompt_tokens\"] for response in responses]\n",
    "mean_prompt_tokens = np.mean(prompt_tokens)\n",
    "completion_tokens = [response[\"completion_tokens\"] for response in responses]\n",
    "mean_completion_tokens = np.mean(completion_tokens)\n",
    "print(mean_prompt_tokens)\n",
    "print(mean_completion_tokens)"
   ]
  },
  {
   "cell_type": "code",
   "execution_count": null,
   "metadata": {},
   "outputs": [],
   "source": [
    "for response in responses:\n",
    "    print(response[\"open_labelled_records\"])"
   ]
  }
 ],
 "metadata": {
  "kernelspec": {
   "display_name": "Python 3",
   "language": "python",
   "name": "python3"
  },
  "language_info": {
   "codemirror_mode": {
    "name": "ipython",
    "version": 3
   },
   "file_extension": ".py",
   "mimetype": "text/x-python",
   "name": "python",
   "nbconvert_exporter": "python",
   "pygments_lexer": "ipython3",
   "version": "3.11.4"
  }
 },
 "nbformat": 4,
 "nbformat_minor": 2
}
