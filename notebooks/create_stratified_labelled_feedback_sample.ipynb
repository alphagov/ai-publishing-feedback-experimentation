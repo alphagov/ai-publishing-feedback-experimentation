{
 "cells": [
  {
   "cell_type": "markdown",
   "metadata": {},
   "source": [
    "# Labelled Feedback Sampling\n",
    "Taking a random or stratified sample of labelled feedback records to use as context for few-shot prompting"
   ]
  },
  {
   "cell_type": "code",
   "execution_count": null,
   "metadata": {},
   "outputs": [],
   "source": [
    "from google.cloud import bigquery\n",
    "import pandas as pd\n",
    "import os\n",
    "\n",
    "PUBLISHING_PROJECT_ID = os.getenv(\"PUBLISHING_PROJECT_ID\")\n",
    "LABELLED_FEEDBACK_DATASET = os.getenv(\"LABELLED_FEEDBACK_DATASET\")\n",
    "LABELLED_FEEDBACK_TABLE = os.getenv(\"LABELLED_FEEDBACK_TABLE\")"
   ]
  },
  {
   "cell_type": "code",
   "execution_count": null,
   "metadata": {},
   "outputs": [],
   "source": [
    "def query_bigquery(project_id: str, dataset_id: str, query: str):\n",
    "    \"\"\"Extracts feedback records from BigQuery\n",
    "\n",
    "    Args:\n",
    "        project_id (str): BigQuery project ID\n",
    "        dataset_id (str): BigQuery dataset ID\n",
    "        query (str): SQL query to get data from BigQuery\n",
    "\n",
    "    Returns:\n",
    "        pd.DataFrame: DataFrame containing feedback records\n",
    "    \"\"\"\n",
    "    # Initialize a BigQuery client\n",
    "    client = bigquery.Client(project=project_id)\n",
    "\n",
    "    # Construct a reference to the dataset\n",
    "    dataset_ref = client.dataset(dataset_id)\n",
    "\n",
    "    # Make a BigQuery API request to run the query\n",
    "    query_job = client.query(query)\n",
    "\n",
    "    # Wait for the query to complete\n",
    "    query_job.result()\n",
    "\n",
    "    # Fetch the results of the query\n",
    "    # results = query_job.result()\n",
    "\n",
    "    # Write to a df\n",
    "    results_df = query_job.to_dataframe()\n",
    "\n",
    "    return results_df"
   ]
  },
  {
   "cell_type": "code",
   "execution_count": null,
   "metadata": {},
   "outputs": [],
   "source": [
    "query_read = \"\"\"\n",
    "SELECT * FROM  @feedback_sample_table\n",
    "\"\"\"\n",
    "query_read = query_read.replace(\"@feedback_sample_table\", str(LABELLED_FEEDBACK_TABLE))\n",
    "# Call the function to execute the query\n",
    "sample_df = query_bigquery(PUBLISHING_PROJECT_ID, LABELLED_FEEDBACK_DATASET, query_read)\n",
    "print(len(sample_df))"
   ]
  },
  {
   "cell_type": "code",
   "execution_count": null,
   "metadata": {},
   "outputs": [],
   "source": [
    "# Display count of labels by distinct feedback_record_id\n",
    "def count_labels(sample_df: pd.DataFrame):\n",
    "    \"\"\"Count the proportion of records in the dataset versus the total\n",
    "\n",
    "    Args:\n",
    "        sample_df (pd.DataFrame): data\n",
    "\n",
    "    Returns:\n",
    "        _type_: _description_\n",
    "    \"\"\"\n",
    "    sample_df_count = (\n",
    "        sample_df.explode(\"labels\")\n",
    "        .groupby(\"labels\")[\"feedback_record_id\"]\n",
    "        .nunique()\n",
    "        .reset_index(name=\"count_unique_ids\")\n",
    "        .sort_values(by=[\"count_unique_ids\"], ascending=False)\n",
    "    )\n",
    "\n",
    "    n_unique_classes = sample_df_count[\"labels\"].nunique()\n",
    "    sample_df_count[\"class_proportion\"] = (\n",
    "        sample_df_count[\"count_unique_ids\"] / n_unique_classes\n",
    "    )\n",
    "\n",
    "    return sample_df_count"
   ]
  },
  {
   "cell_type": "code",
   "execution_count": null,
   "metadata": {},
   "outputs": [],
   "source": [
    "sample_df_count = count_labels(sample_df)"
   ]
  },
  {
   "cell_type": "code",
   "execution_count": null,
   "metadata": {},
   "outputs": [],
   "source": [
    "# Set sample size\n",
    "n = 25"
   ]
  },
  {
   "cell_type": "code",
   "execution_count": null,
   "metadata": {},
   "outputs": [],
   "source": [
    "def stratified_sample_with_underrepresented_bias(\n",
    "    sample_df: pd.DataFrame, n: int, underrepresented_bias_frac=0.2\n",
    "):\n",
    "    \"\"\"Create a stratified sample with a bias towards underrepresented classes. Class variable should be called 'labels'.\n",
    "\n",
    "    Args:\n",
    "        sample_df (pd.DataFrame): data to sample from\n",
    "        n (int): desired sample size\n",
    "        underrepresented_bias_frac(float): proportion of sample that should be made up of underrepresented classes\n",
    "\n",
    "    Returns:\n",
    "        pd.DataFrame: stratified sample\n",
    "    \"\"\"\n",
    "    # Normalize the DataFrame by exploding 'labels'\n",
    "    df_normalized = sample_df.explode(\"labels\")\n",
    "\n",
    "    # Calculate the proportion of each class\n",
    "    class_proportions = df_normalized[\"labels\"].value_counts(normalize=True)\n",
    "\n",
    "    # Determine the number of samples for underrepresented classes (20% of n)\n",
    "    samples_for_underrepresented = max(1, int(n * underrepresented_bias_frac))\n",
    "\n",
    "    # Calculate sample sizes for each class, considering the total desired size n and the additional allocation for diversity\n",
    "    total_samples_needed = (\n",
    "        n + samples_for_underrepresented\n",
    "    )  # Adjust total samples to include diversity allocation\n",
    "\n",
    "    # Calculate initial sample size per class before adding diversity, attempting to respect original proportions\n",
    "    initial_samples_per_class = (\n",
    "        (class_proportions * (total_samples_needed - samples_for_underrepresented))\n",
    "        .round()\n",
    "        .astype(int)\n",
    "    )\n",
    "\n",
    "    # Ensure the sum of initial samples does not exceed total_samples_needed due to rounding adjustments\n",
    "    while initial_samples_per_class.sum() > (\n",
    "        total_samples_needed - samples_for_underrepresented\n",
    "    ):\n",
    "        initial_samples_per_class[initial_samples_per_class.idxmax()] -= 1\n",
    "\n",
    "    # Sample based on calculated sizes\n",
    "    initial_samples_list = [\n",
    "        df_normalized[df_normalized[\"labels\"] == cls].sample(\n",
    "            n=min(cnt, len(df_normalized[df_normalized[\"labels\"] == cls])),\n",
    "            random_state=42,\n",
    "        )\n",
    "        for cls, cnt in initial_samples_per_class.items()\n",
    "        if cnt > 0\n",
    "    ]\n",
    "    initial_samples = pd.concat(initial_samples_list)\n",
    "\n",
    "    # Now add diversity: sample from underrepresented classes not already covered in initial_samples\n",
    "    covered_classes = initial_samples[\"labels\"].unique()\n",
    "    additional_classes = df_normalized[~df_normalized[\"labels\"].isin(covered_classes)][\n",
    "        \"labels\"\n",
    "    ].unique()\n",
    "\n",
    "    if additional_classes.size > 0:\n",
    "        additional_samples_list = [\n",
    "            df_normalized[df_normalized[\"labels\"] == cls].sample(n=1, random_state=42)\n",
    "            for cls in additional_classes\n",
    "        ]\n",
    "        additional_samples = pd.concat(additional_samples_list)\n",
    "        # Combine initial and additional samples\n",
    "        final_sample = (\n",
    "            pd.concat([initial_samples, additional_samples]).drop_duplicates().head(n)\n",
    "        )\n",
    "    else:\n",
    "        final_sample = initial_samples.head(n)\n",
    "\n",
    "    # Join back on to df to get full set of labels per record\n",
    "    final_sample = pd.merge(\n",
    "        final_sample.drop(columns=[\"labels\"]),\n",
    "        sample_df[[\"feedback_record_id\", \"labels\"]],\n",
    "        on=\"feedback_record_id\",\n",
    "        how=\"left\",\n",
    "    )\n",
    "\n",
    "    return final_sample"
   ]
  },
  {
   "cell_type": "code",
   "execution_count": null,
   "metadata": {},
   "outputs": [],
   "source": [
    "# Generate stratified sample with small bias towards underrepresented classes\n",
    "stratified_sample_df = stratified_sample_with_underrepresented_bias(\n",
    "    sample_df=sample_df, n=n\n",
    ")"
   ]
  },
  {
   "cell_type": "code",
   "execution_count": null,
   "metadata": {},
   "outputs": [],
   "source": [
    "strat_2_df_count = count_labels(stratified_sample_df)\n",
    "sample_df_count[\"strat_sample_class_proportion\"] = strat_2_df_count[\"class_proportion\"]"
   ]
  },
  {
   "cell_type": "code",
   "execution_count": null,
   "metadata": {},
   "outputs": [],
   "source": [
    "# Random sample\n",
    "random_sample_df = sample_df.sample(n=n)"
   ]
  },
  {
   "cell_type": "code",
   "execution_count": null,
   "metadata": {},
   "outputs": [],
   "source": [
    "# Ratio of selected items by label\n",
    "rand_df_count = count_labels(random_sample_df)\n",
    "sample_df_count[\"random_sample_class_proportion\"] = rand_df_count[\"class_proportion\"]"
   ]
  },
  {
   "cell_type": "code",
   "execution_count": null,
   "metadata": {},
   "outputs": [],
   "source": [
    "# Create simple stratified sample, without greater representation of smaller categories\n",
    "# stratified_sample = sample_df.explode(\"labels\").groupby(\"labels\", group_keys=False).apply(\n",
    "#     lambda x: x.sample(frac=0.16)\n",
    "# )\n",
    "\n",
    "# strat_df_count = count_labels(stratified_sample)\n",
    "# sample_df_count[\"strat_sample_class_proportion\"] = strat_df_count[\"class_proportion\"]"
   ]
  },
  {
   "cell_type": "code",
   "execution_count": null,
   "metadata": {},
   "outputs": [],
   "source": [
    "import seaborn as sns\n",
    "import matplotlib.pyplot as plt\n",
    "\n",
    "# Reshape DataFrame\n",
    "df_melted = sample_df_count.melt(\n",
    "    id_vars=[\"labels\"],\n",
    "    value_vars=[\n",
    "        \"class_proportion\",\n",
    "        \"random_sample_class_proportion\",\n",
    "        \"strat_sample_class_proportion\",\n",
    "    ],\n",
    "    var_name=\"Y_Variable\",\n",
    "    value_name=\"Value\",\n",
    ")\n",
    "\n",
    "# Plot\n",
    "plt.figure(figsize=(16, 12))\n",
    "sns.barplot(x=\"labels\", y=\"Value\", hue=\"Y_Variable\", data=df_melted)\n",
    "plt.xticks(rotation=90)\n",
    "plt.title(\n",
    "    \"Bar plot of label class distributions in original dataset, random sample and stratfied sample\"\n",
    ")\n",
    "plt.xlabel(\"Label\")\n",
    "plt.ylabel(\"Class proportion\")\n",
    "plt.legend(title=\"Variables\", loc=\"upper right\")\n",
    "plt.show()"
   ]
  }
 ],
 "metadata": {
  "kernelspec": {
   "display_name": "venv",
   "language": "python",
   "name": "python3"
  },
  "language_info": {
   "codemirror_mode": {
    "name": "ipython",
    "version": 3
   },
   "file_extension": ".py",
   "mimetype": "text/x-python",
   "name": "python",
   "nbconvert_exporter": "python",
   "pygments_lexer": "ipython3",
   "version": "3.11.8"
  }
 },
 "nbformat": 4,
 "nbformat_minor": 2
}
