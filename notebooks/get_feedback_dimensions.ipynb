{
 "cells": [
  {
   "cell_type": "markdown",
   "metadata": {},
   "source": [
    "# Get distinct values for feedback dimensions\n",
    "Code to query BigQuery tables to return distinct values of named dimensions, to use as filter dropdown options in the Feedback AI dashboard"
   ]
  },
  {
   "cell_type": "code",
   "execution_count": null,
   "metadata": {},
   "outputs": [],
   "source": [
    "import os\n",
    "import json\n",
    "from src.utils.bigquery import query_bigquery\n",
    "\n",
    "from src.sql_queries import (\n",
    "    query_distinct_page_paths,\n",
    "    query_distinct_orgs,\n",
    "    query_distinct_doc_type,\n",
    ")"
   ]
  },
  {
   "cell_type": "code",
   "execution_count": null,
   "metadata": {},
   "outputs": [],
   "source": [
    "PUBLISHING_PROJECT_ID = os.getenv(\"PUBLISHING_PROJECT_ID\")\n",
    "PUBLISHING_VIEW = os.getenv(\"PUBLISHING_VIEW\")\n",
    "PUBLISHING_VIEW = f\"`{PUBLISHING_VIEW}`\""
   ]
  },
  {
   "cell_type": "code",
   "execution_count": null,
   "metadata": {},
   "outputs": [],
   "source": [
    "queries = {\n",
    "    \"subject_page_path\": query_distinct_page_paths,\n",
    "    \"organisation\": query_distinct_orgs,\n",
    "    \"document_type\": query_distinct_doc_type,\n",
    "}"
   ]
  },
  {
   "cell_type": "code",
   "execution_count": null,
   "metadata": {},
   "outputs": [],
   "source": [
    "distinct_dimensions = {}\n",
    "for dim, query in queries.items():\n",
    "    print(f\"Query for {dim} starting...\")\n",
    "    query = query.replace(\"@PUBLISHING_VIEW\", str(PUBLISHING_VIEW))\n",
    "    result = query_bigquery(\n",
    "        project_id=PUBLISHING_PROJECT_ID, query=query, write_to_dict=False\n",
    "    )\n",
    "    distinct_dimensions[dim] = [row.values()[0] for row in result]\n",
    "    print(f\"Query for {dim} complete\")"
   ]
  },
  {
   "cell_type": "code",
   "execution_count": null,
   "metadata": {},
   "outputs": [],
   "source": [
    "# Create a json from distinct_dimensions\n",
    "path = \"../data/distinct_dimensions.json\"\n",
    "with open(path, \"w\") as f:\n",
    "    json.dump(distinct_dimensions, f)"
   ]
  }
 ],
 "metadata": {
  "kernelspec": {
   "display_name": "ai-publishing-feedback-experimentation-PkiZJSwW-py3.11",
   "language": "python",
   "name": "python3"
  },
  "language_info": {
   "codemirror_mode": {
    "name": "ipython",
    "version": 3
   },
   "file_extension": ".py",
   "mimetype": "text/x-python",
   "name": "python",
   "nbconvert_exporter": "python",
   "pygments_lexer": "ipython3",
   "version": "3.11.8"
  }
 },
 "nbformat": 4,
 "nbformat_minor": 2
}
