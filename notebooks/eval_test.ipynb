{
 "cells": [
  {
   "cell_type": "code",
   "execution_count": null,
   "metadata": {},
   "outputs": [],
   "source": [
    "from qdrant_client import QdrantClient\n",
    "\n",
    "from src.collection.query_collection import (\n",
    "    filter_search,\n",
    "    get_semantically_similar_results,\n",
    ")\n",
    "from src.utils.utils import load_qdrant_client, load_config\n",
    "from src.utils.utils import load_model\n",
    "\n",
    "from dotenv import load_dotenv\n",
    "import os\n",
    "import pickle\n",
    "\n",
    "load_dotenv()\n",
    "\n",
    "QDRANT_HOST = os.getenv(\"QDRANT_HOST\")\n",
    "QDRANT_PORT = os.getenv(\"QDRANT_PORT\")\n",
    "COLLECTION_NAME = os.getenv(\"COLLECTION_NAME\")\n",
    "HF_MODEL_NAME = os.getenv(\"HF_MODEL_NAME\")"
   ]
  },
  {
   "cell_type": "code",
   "execution_count": null,
   "metadata": {},
   "outputs": [],
   "source": [
    "config = load_config(\"../.config/config.json\")\n",
    "similarity_threshold = float(config.get(\"similarity_threshold_1\"))\n",
    "\n",
    "with open(\"../data/regex_ids.pkl\", \"rb\") as f:\n",
    "    regex_ids = pickle.load(f)"
   ]
  },
  {
   "cell_type": "code",
   "execution_count": null,
   "metadata": {},
   "outputs": [],
   "source": [
    "qdrant = load_qdrant_client(QDRANT_HOST, port=QDRANT_PORT)\n",
    "model = load_model(HF_MODEL_NAME)"
   ]
  },
  {
   "cell_type": "code",
   "execution_count": null,
   "metadata": {},
   "outputs": [],
   "source": [
    "query_embedding = model.encode(\"applications\")"
   ]
  },
  {
   "cell_type": "code",
   "execution_count": null,
   "metadata": {},
   "outputs": [],
   "source": [
    "results = get_semantically_similar_results(\n",
    "    client=qdrant,\n",
    "    collection_name=COLLECTION_NAME,\n",
    "    query_embedding=query_embedding,\n",
    "    score_threshold=0.1,\n",
    ")"
   ]
  },
  {
   "cell_type": "code",
   "execution_count": null,
   "metadata": {},
   "outputs": [],
   "source": [
    "results"
   ]
  },
  {
   "cell_type": "code",
   "execution_count": null,
   "metadata": {},
   "outputs": [],
   "source": [
    "result_ids = [str(result.id) for result in results]\n",
    "result_ids"
   ]
  },
  {
   "cell_type": "code",
   "execution_count": null,
   "metadata": {},
   "outputs": [],
   "source": [
    "set(result_ids) & set(apps_ids)"
   ]
  },
  {
   "cell_type": "code",
   "execution_count": null,
   "metadata": {},
   "outputs": [],
   "source": [
    "app_ids = regex_ids[\"application\"]\n",
    "apps_ids = regex_ids[\"applications\"]\n",
    "\n",
    "print(f\"intersection: {sorted(list(set(app_ids) & set(apps_ids)))}\")\n",
    "print(f\"apps_ids: {sorted(apps_ids)}\")\n",
    "print(f\"count of app_ids: {len(app_ids)}\")"
   ]
  }
 ],
 "metadata": {
  "kernelspec": {
   "display_name": "govuk-ai-publishing-feedback",
   "language": "python",
   "name": "python3"
  },
  "language_info": {
   "codemirror_mode": {
    "name": "ipython",
    "version": 3
   },
   "file_extension": ".py",
   "mimetype": "text/x-python",
   "name": "python",
   "nbconvert_exporter": "python",
   "pygments_lexer": "ipython3",
   "version": "3.11.8"
  }
 },
 "nbformat": 4,
 "nbformat_minor": 2
}
