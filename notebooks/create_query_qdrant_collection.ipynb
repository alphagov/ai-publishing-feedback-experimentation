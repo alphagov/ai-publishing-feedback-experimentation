{
 "cells": [
  {
   "cell_type": "markdown",
   "metadata": {},
   "source": [
    "# QDRANT - Feedback Collection Quickstart\n",
    "\n",
    "A quickstart notebook to get started with Qdrant"
   ]
  },
  {
   "cell_type": "code",
   "execution_count": null,
   "metadata": {},
   "outputs": [],
   "source": [
    "import os\n",
    "from pprint import pprint\n",
    "from src.utils.bigquery import query_bigquery\n",
    "from sentence_transformers import SentenceTransformer\n",
    "from qdrant_client import QdrantClient\n",
    "from qdrant_client.http.models import Distance\n",
    "\n",
    "from src.collection.set_collection import (\n",
    "    create_vectors_from_data,\n",
    "    create_collection,\n",
    "    upsert_to_collection_from_vectors,\n",
    ")\n",
    "from src.sql_queries import query_labelled_feedback\n",
    "from src.collection.query_collection import get_top_k_results\n",
    "\n",
    "PUBLISHING_PROJECT_ID = os.getenv(\"PUBLISHING_PROJECT_ID\")\n",
    "LABELLED_FEEDBACK_DATASET = os.getenv(\"LABELLED_FEEDBACK_DATASET\")\n",
    "PUBLISHING_VIEW = os.getenv(\"PUBLISHING_VIEW\")\n",
    "OPENAI_LABELLED_FEEDBACK_TABLE = os.getenv(\"OPENAI_LABELLED_FEEDBACK_TABLE\")\n",
    "COLLECTION_NAME = os.getenv(\"COLLECTION_NAME\")\n",
    "HF_MODEL_NAME = os.getenv(\"HF_MODEL_NAME\")"
   ]
  },
  {
   "cell_type": "code",
   "execution_count": null,
   "metadata": {},
   "outputs": [],
   "source": [
    "# Query BQ to pull the human labelled feedback data\n",
    "query_read = query_labelled_feedback.replace(\n",
    "    \"@labelled_feedback_table\", str(OPENAI_LABELLED_FEEDBACK_TABLE)\n",
    ").replace(\"@PUBLISHING_VIEW\", str(PUBLISHING_VIEW))\n",
    "\n",
    "# Call the function to execute the query\n",
    "docs = query_bigquery(\n",
    "    PUBLISHING_PROJECT_ID,\n",
    "    LABELLED_FEEDBACK_DATASET,\n",
    "    query_read,\n",
    ")"
   ]
  },
  {
   "cell_type": "code",
   "execution_count": null,
   "metadata": {},
   "outputs": [],
   "source": [
    "client = QdrantClient(\"localhost\", port=6333)"
   ]
  },
  {
   "cell_type": "code",
   "execution_count": null,
   "metadata": {},
   "outputs": [],
   "source": [
    "collection_name = COLLECTION_NAME\n",
    "\n",
    "create_collection(client, collection_name, size=768, distance_metric=Distance.DOT)"
   ]
  },
  {
   "cell_type": "code",
   "execution_count": null,
   "metadata": {},
   "outputs": [],
   "source": [
    "# Convert example data into PointStructs for upsertion\n",
    "points_to_upsert = create_vectors_from_data(\n",
    "    docs, id_key=\"feedback_record_id\", embedding_key=\"embeddings\"\n",
    ")"
   ]
  },
  {
   "cell_type": "code",
   "execution_count": null,
   "metadata": {},
   "outputs": [],
   "source": [
    "type(points_to_upsert[0])"
   ]
  },
  {
   "cell_type": "code",
   "execution_count": null,
   "metadata": {},
   "outputs": [],
   "source": [
    "# Upsert data to collection\n",
    "upsert_to_collection_from_vectors(client, collection_name, data=points_to_upsert)"
   ]
  },
  {
   "cell_type": "code",
   "execution_count": null,
   "metadata": {},
   "outputs": [],
   "source": [
    "# Clean up any stale collections\n",
    "stale_collection_name = \"stale_collection_name\"\n",
    "client.delete_collection(collection_name=f\"{stale_collection_name}\")"
   ]
  },
  {
   "cell_type": "code",
   "execution_count": null,
   "metadata": {},
   "outputs": [],
   "source": [
    "# Embed keyword for query search using a local sentence transformers model...\n",
    "model = SentenceTransformer(HF_MODEL_NAME)"
   ]
  },
  {
   "cell_type": "code",
   "execution_count": null,
   "metadata": {},
   "outputs": [],
   "source": [
    "query_embedding = model.encode([\"tax\"])"
   ]
  },
  {
   "cell_type": "code",
   "execution_count": null,
   "metadata": {},
   "outputs": [],
   "source": [
    "len(query_embedding)"
   ]
  },
  {
   "cell_type": "code",
   "execution_count": null,
   "metadata": {},
   "outputs": [],
   "source": [
    "type(query_embedding)"
   ]
  },
  {
   "cell_type": "code",
   "execution_count": null,
   "metadata": {},
   "outputs": [],
   "source": [
    "# filter_key = \"subject_page_path\"\n",
    "# filter_values = None\n",
    "# filter_values = [\"/government/publications/childcare-service-compensation\"]\n",
    "\n",
    "search_result = get_top_k_results(client, collection_name, query_embedding[0], k=5)"
   ]
  },
  {
   "cell_type": "code",
   "execution_count": null,
   "metadata": {},
   "outputs": [],
   "source": [
    "results = [dict(result) for result in search_result]"
   ]
  },
  {
   "cell_type": "code",
   "execution_count": null,
   "metadata": {},
   "outputs": [],
   "source": [
    "pprint(results)"
   ]
  }
 ],
 "metadata": {
  "kernelspec": {
   "display_name": "venv",
   "language": "python",
   "name": "python3"
  },
  "language_info": {
   "codemirror_mode": {
    "name": "ipython",
    "version": 3
   },
   "file_extension": ".py",
   "mimetype": "text/x-python",
   "name": "python",
   "nbconvert_exporter": "python",
   "pygments_lexer": "ipython3",
   "version": "3.11.8"
  }
 },
 "nbformat": 4,
 "nbformat_minor": 2
}
